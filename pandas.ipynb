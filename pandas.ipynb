{
 "cells": [
  {
   "cell_type": "code",
   "execution_count": 1,
   "metadata": {},
   "outputs": [
    {
     "data": {
      "text/html": [
       "<div>\n",
       "<style scoped>\n",
       "    .dataframe tbody tr th:only-of-type {\n",
       "        vertical-align: middle;\n",
       "    }\n",
       "\n",
       "    .dataframe tbody tr th {\n",
       "        vertical-align: top;\n",
       "    }\n",
       "\n",
       "    .dataframe thead th {\n",
       "        text-align: right;\n",
       "    }\n",
       "</style>\n",
       "<table border=\"1\" class=\"dataframe\">\n",
       "  <thead>\n",
       "    <tr style=\"text-align: right;\">\n",
       "      <th></th>\n",
       "      <th>Age</th>\n",
       "    </tr>\n",
       "  </thead>\n",
       "  <tbody>\n",
       "    <tr>\n",
       "      <th>count</th>\n",
       "      <td>3.0</td>\n",
       "    </tr>\n",
       "    <tr>\n",
       "      <th>mean</th>\n",
       "      <td>30.0</td>\n",
       "    </tr>\n",
       "    <tr>\n",
       "      <th>std</th>\n",
       "      <td>5.0</td>\n",
       "    </tr>\n",
       "    <tr>\n",
       "      <th>min</th>\n",
       "      <td>25.0</td>\n",
       "    </tr>\n",
       "    <tr>\n",
       "      <th>25%</th>\n",
       "      <td>27.5</td>\n",
       "    </tr>\n",
       "    <tr>\n",
       "      <th>50%</th>\n",
       "      <td>30.0</td>\n",
       "    </tr>\n",
       "    <tr>\n",
       "      <th>75%</th>\n",
       "      <td>32.5</td>\n",
       "    </tr>\n",
       "    <tr>\n",
       "      <th>max</th>\n",
       "      <td>35.0</td>\n",
       "    </tr>\n",
       "  </tbody>\n",
       "</table>\n",
       "</div>"
      ],
      "text/plain": [
       "        Age\n",
       "count   3.0\n",
       "mean   30.0\n",
       "std     5.0\n",
       "min    25.0\n",
       "25%    27.5\n",
       "50%    30.0\n",
       "75%    32.5\n",
       "max    35.0"
      ]
     },
     "execution_count": 1,
     "metadata": {},
     "output_type": "execute_result"
    }
   ],
   "source": [
    "import numpy as np\n",
    "import pandas as pd\n",
    "\n",
    "data = {\n",
    "            'Name': ['Alice', 'Bob', 'Charlie'], \n",
    "            'Age': [25, 30, 35]\n",
    "      }\n",
    "\n",
    "df = pd.DataFrame(data)\n",
    "\n",
    "df.describe()"
   ]
  },
  {
   "cell_type": "code",
   "execution_count": 2,
   "metadata": {},
   "outputs": [],
   "source": [
    "myArr = np.array([[1, 5, 85, 12], [15, 20, 10, 25]], dtype=np.int64)"
   ]
  },
  {
   "cell_type": "code",
   "execution_count": 3,
   "metadata": {},
   "outputs": [
    {
     "name": "stdout",
     "output_type": "stream",
     "text": [
      "5\n"
     ]
    }
   ],
   "source": [
    "print(myArr[0, 1])"
   ]
  },
  {
   "cell_type": "code",
   "execution_count": 4,
   "metadata": {},
   "outputs": [],
   "source": [
    "ser = pd.Series(np.random.rand(12))"
   ]
  },
  {
   "cell_type": "code",
   "execution_count": 5,
   "metadata": {},
   "outputs": [
    {
     "data": {
      "text/plain": [
       "0     0.329382\n",
       "1     0.131195\n",
       "2     0.232452\n",
       "3     0.014332\n",
       "4     0.432386\n",
       "5     0.949735\n",
       "6     0.986647\n",
       "7     0.089828\n",
       "8     0.699856\n",
       "9     0.291633\n",
       "10    0.346465\n",
       "11    0.636556\n",
       "dtype: float64"
      ]
     },
     "execution_count": 5,
     "metadata": {},
     "output_type": "execute_result"
    }
   ],
   "source": [
    "ser\n"
   ]
  },
  {
   "cell_type": "code",
   "execution_count": 6,
   "metadata": {},
   "outputs": [
    {
     "name": "stdout",
     "output_type": "stream",
     "text": [
      "          0         1         2         3         4\n",
      "0  0.149850  0.524364  0.769675  0.477352  0.892729\n",
      "1  0.779288  0.914709  0.645573  0.517796  0.383096\n",
      "2  0.940537  0.036190  0.485115  0.943506  0.074974\n",
      "3  0.966414  0.205196  0.179163  0.419067  0.479820\n",
      "4  0.113712  0.497278  0.343462  0.616913  0.688752\n"
     ]
    }
   ],
   "source": [
    "\n",
    "new_df = pd.DataFrame(np.random.rand(334, 5), index=np.arange(334)) \n",
    "\n",
    "print(new_df.head(5))\n"
   ]
  },
  {
   "cell_type": "code",
   "execution_count": 7,
   "metadata": {},
   "outputs": [
    {
     "data": {
      "text/html": [
       "<div>\n",
       "<style scoped>\n",
       "    .dataframe tbody tr th:only-of-type {\n",
       "        vertical-align: middle;\n",
       "    }\n",
       "\n",
       "    .dataframe tbody tr th {\n",
       "        vertical-align: top;\n",
       "    }\n",
       "\n",
       "    .dataframe thead th {\n",
       "        text-align: right;\n",
       "    }\n",
       "</style>\n",
       "<table border=\"1\" class=\"dataframe\">\n",
       "  <thead>\n",
       "    <tr style=\"text-align: right;\">\n",
       "      <th></th>\n",
       "      <th>0</th>\n",
       "      <th>1</th>\n",
       "      <th>2</th>\n",
       "      <th>3</th>\n",
       "      <th>4</th>\n",
       "    </tr>\n",
       "  </thead>\n",
       "  <tbody>\n",
       "    <tr>\n",
       "      <th>count</th>\n",
       "      <td>334.000000</td>\n",
       "      <td>334.000000</td>\n",
       "      <td>334.000000</td>\n",
       "      <td>334.000000</td>\n",
       "      <td>334.000000</td>\n",
       "    </tr>\n",
       "    <tr>\n",
       "      <th>mean</th>\n",
       "      <td>0.502432</td>\n",
       "      <td>0.499910</td>\n",
       "      <td>0.486640</td>\n",
       "      <td>0.476283</td>\n",
       "      <td>0.493489</td>\n",
       "    </tr>\n",
       "    <tr>\n",
       "      <th>std</th>\n",
       "      <td>0.280634</td>\n",
       "      <td>0.280408</td>\n",
       "      <td>0.293016</td>\n",
       "      <td>0.290731</td>\n",
       "      <td>0.285002</td>\n",
       "    </tr>\n",
       "    <tr>\n",
       "      <th>min</th>\n",
       "      <td>0.003686</td>\n",
       "      <td>0.000721</td>\n",
       "      <td>0.001207</td>\n",
       "      <td>0.007044</td>\n",
       "      <td>0.000752</td>\n",
       "    </tr>\n",
       "    <tr>\n",
       "      <th>25%</th>\n",
       "      <td>0.273300</td>\n",
       "      <td>0.263071</td>\n",
       "      <td>0.236549</td>\n",
       "      <td>0.219841</td>\n",
       "      <td>0.239249</td>\n",
       "    </tr>\n",
       "    <tr>\n",
       "      <th>50%</th>\n",
       "      <td>0.519686</td>\n",
       "      <td>0.507625</td>\n",
       "      <td>0.473655</td>\n",
       "      <td>0.468860</td>\n",
       "      <td>0.492817</td>\n",
       "    </tr>\n",
       "    <tr>\n",
       "      <th>75%</th>\n",
       "      <td>0.732930</td>\n",
       "      <td>0.742247</td>\n",
       "      <td>0.740009</td>\n",
       "      <td>0.708436</td>\n",
       "      <td>0.723301</td>\n",
       "    </tr>\n",
       "    <tr>\n",
       "      <th>max</th>\n",
       "      <td>0.993229</td>\n",
       "      <td>0.994215</td>\n",
       "      <td>0.997683</td>\n",
       "      <td>0.998767</td>\n",
       "      <td>0.996104</td>\n",
       "    </tr>\n",
       "  </tbody>\n",
       "</table>\n",
       "</div>"
      ],
      "text/plain": [
       "                0           1           2           3           4\n",
       "count  334.000000  334.000000  334.000000  334.000000  334.000000\n",
       "mean     0.502432    0.499910    0.486640    0.476283    0.493489\n",
       "std      0.280634    0.280408    0.293016    0.290731    0.285002\n",
       "min      0.003686    0.000721    0.001207    0.007044    0.000752\n",
       "25%      0.273300    0.263071    0.236549    0.219841    0.239249\n",
       "50%      0.519686    0.507625    0.473655    0.468860    0.492817\n",
       "75%      0.732930    0.742247    0.740009    0.708436    0.723301\n",
       "max      0.993229    0.994215    0.997683    0.998767    0.996104"
      ]
     },
     "execution_count": 7,
     "metadata": {},
     "output_type": "execute_result"
    }
   ],
   "source": [
    "new_df.describe()"
   ]
  },
  {
   "cell_type": "code",
   "execution_count": 8,
   "metadata": {},
   "outputs": [
    {
     "data": {
      "text/html": [
       "<div>\n",
       "<style scoped>\n",
       "    .dataframe tbody tr th:only-of-type {\n",
       "        vertical-align: middle;\n",
       "    }\n",
       "\n",
       "    .dataframe tbody tr th {\n",
       "        vertical-align: top;\n",
       "    }\n",
       "\n",
       "    .dataframe thead th {\n",
       "        text-align: right;\n",
       "    }\n",
       "</style>\n",
       "<table border=\"1\" class=\"dataframe\">\n",
       "  <thead>\n",
       "    <tr style=\"text-align: right;\">\n",
       "      <th></th>\n",
       "      <th>0</th>\n",
       "      <th>2</th>\n",
       "      <th>3</th>\n",
       "      <th>4</th>\n",
       "    </tr>\n",
       "  </thead>\n",
       "  <tbody>\n",
       "    <tr>\n",
       "      <th>0</th>\n",
       "      <td>0.149850</td>\n",
       "      <td>0.769675</td>\n",
       "      <td>0.477352</td>\n",
       "      <td>0.892729</td>\n",
       "    </tr>\n",
       "    <tr>\n",
       "      <th>1</th>\n",
       "      <td>0.779288</td>\n",
       "      <td>0.645573</td>\n",
       "      <td>0.517796</td>\n",
       "      <td>0.383096</td>\n",
       "    </tr>\n",
       "    <tr>\n",
       "      <th>2</th>\n",
       "      <td>0.940537</td>\n",
       "      <td>0.485115</td>\n",
       "      <td>0.943506</td>\n",
       "      <td>0.074974</td>\n",
       "    </tr>\n",
       "    <tr>\n",
       "      <th>3</th>\n",
       "      <td>0.966414</td>\n",
       "      <td>0.179163</td>\n",
       "      <td>0.419067</td>\n",
       "      <td>0.479820</td>\n",
       "    </tr>\n",
       "    <tr>\n",
       "      <th>4</th>\n",
       "      <td>0.113712</td>\n",
       "      <td>0.343462</td>\n",
       "      <td>0.616913</td>\n",
       "      <td>0.688752</td>\n",
       "    </tr>\n",
       "    <tr>\n",
       "      <th>...</th>\n",
       "      <td>...</td>\n",
       "      <td>...</td>\n",
       "      <td>...</td>\n",
       "      <td>...</td>\n",
       "    </tr>\n",
       "    <tr>\n",
       "      <th>329</th>\n",
       "      <td>0.038977</td>\n",
       "      <td>0.369911</td>\n",
       "      <td>0.933963</td>\n",
       "      <td>0.487507</td>\n",
       "    </tr>\n",
       "    <tr>\n",
       "      <th>330</th>\n",
       "      <td>0.625885</td>\n",
       "      <td>0.605551</td>\n",
       "      <td>0.587365</td>\n",
       "      <td>0.332795</td>\n",
       "    </tr>\n",
       "    <tr>\n",
       "      <th>331</th>\n",
       "      <td>0.168512</td>\n",
       "      <td>0.551112</td>\n",
       "      <td>0.415493</td>\n",
       "      <td>0.642897</td>\n",
       "    </tr>\n",
       "    <tr>\n",
       "      <th>332</th>\n",
       "      <td>0.910314</td>\n",
       "      <td>0.203478</td>\n",
       "      <td>0.946755</td>\n",
       "      <td>0.663943</td>\n",
       "    </tr>\n",
       "    <tr>\n",
       "      <th>333</th>\n",
       "      <td>0.351018</td>\n",
       "      <td>0.177150</td>\n",
       "      <td>0.574869</td>\n",
       "      <td>0.464688</td>\n",
       "    </tr>\n",
       "  </tbody>\n",
       "</table>\n",
       "<p>334 rows × 4 columns</p>\n",
       "</div>"
      ],
      "text/plain": [
       "            0         2         3         4\n",
       "0    0.149850  0.769675  0.477352  0.892729\n",
       "1    0.779288  0.645573  0.517796  0.383096\n",
       "2    0.940537  0.485115  0.943506  0.074974\n",
       "3    0.966414  0.179163  0.419067  0.479820\n",
       "4    0.113712  0.343462  0.616913  0.688752\n",
       "..        ...       ...       ...       ...\n",
       "329  0.038977  0.369911  0.933963  0.487507\n",
       "330  0.625885  0.605551  0.587365  0.332795\n",
       "331  0.168512  0.551112  0.415493  0.642897\n",
       "332  0.910314  0.203478  0.946755  0.663943\n",
       "333  0.351018  0.177150  0.574869  0.464688\n",
       "\n",
       "[334 rows x 4 columns]"
      ]
     },
     "execution_count": 8,
     "metadata": {},
     "output_type": "execute_result"
    }
   ],
   "source": [
    "\n",
    "new_df.drop([1], axis=1)\n"
   ]
  }
 ],
 "metadata": {
  "kernelspec": {
   "display_name": "pandasProject",
   "language": "python",
   "name": "python3"
  },
  "language_info": {
   "codemirror_mode": {
    "name": "ipython",
    "version": 3
   },
   "file_extension": ".py",
   "mimetype": "text/x-python",
   "name": "python",
   "nbconvert_exporter": "python",
   "pygments_lexer": "ipython3",
   "version": "3.11.5"
  }
 },
 "nbformat": 4,
 "nbformat_minor": 2
}
