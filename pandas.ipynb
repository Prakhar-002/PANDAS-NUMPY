{
 "cells": [
  {
   "cell_type": "code",
   "execution_count": 5,
   "metadata": {},
   "outputs": [
    {
     "data": {
      "text/html": [
       "<div>\n",
       "<style scoped>\n",
       "    .dataframe tbody tr th:only-of-type {\n",
       "        vertical-align: middle;\n",
       "    }\n",
       "\n",
       "    .dataframe tbody tr th {\n",
       "        vertical-align: top;\n",
       "    }\n",
       "\n",
       "    .dataframe thead th {\n",
       "        text-align: right;\n",
       "    }\n",
       "</style>\n",
       "<table border=\"1\" class=\"dataframe\">\n",
       "  <thead>\n",
       "    <tr style=\"text-align: right;\">\n",
       "      <th></th>\n",
       "      <th>Age</th>\n",
       "    </tr>\n",
       "  </thead>\n",
       "  <tbody>\n",
       "    <tr>\n",
       "      <th>count</th>\n",
       "      <td>3.0</td>\n",
       "    </tr>\n",
       "    <tr>\n",
       "      <th>mean</th>\n",
       "      <td>30.0</td>\n",
       "    </tr>\n",
       "    <tr>\n",
       "      <th>std</th>\n",
       "      <td>5.0</td>\n",
       "    </tr>\n",
       "    <tr>\n",
       "      <th>min</th>\n",
       "      <td>25.0</td>\n",
       "    </tr>\n",
       "    <tr>\n",
       "      <th>25%</th>\n",
       "      <td>27.5</td>\n",
       "    </tr>\n",
       "    <tr>\n",
       "      <th>50%</th>\n",
       "      <td>30.0</td>\n",
       "    </tr>\n",
       "    <tr>\n",
       "      <th>75%</th>\n",
       "      <td>32.5</td>\n",
       "    </tr>\n",
       "    <tr>\n",
       "      <th>max</th>\n",
       "      <td>35.0</td>\n",
       "    </tr>\n",
       "  </tbody>\n",
       "</table>\n",
       "</div>"
      ],
      "text/plain": [
       "        Age\n",
       "count   3.0\n",
       "mean   30.0\n",
       "std     5.0\n",
       "min    25.0\n",
       "25%    27.5\n",
       "50%    30.0\n",
       "75%    32.5\n",
       "max    35.0"
      ]
     },
     "execution_count": 5,
     "metadata": {},
     "output_type": "execute_result"
    }
   ],
   "source": [
    "import numpy as np\n",
    "import pandas as pd\n",
    "\n",
    "data = {\n",
    "            'Name': ['Alice', 'Bob', 'Charlie'], \n",
    "            'Age': [25, 30, 35]\n",
    "      }\n",
    "\n",
    "df = pd.DataFrame(data)\n",
    "\n",
    "df.describe()"
   ]
  },
  {
   "cell_type": "code",
   "execution_count": 6,
   "metadata": {},
   "outputs": [],
   "source": [
    "myArr = np.array([[1, 5, 85, 12], [15, 20, 10, 25]], dtype=np.int64)"
   ]
  },
  {
   "cell_type": "code",
   "execution_count": 7,
   "metadata": {},
   "outputs": [
    {
     "name": "stdout",
     "output_type": "stream",
     "text": [
      "5\n"
     ]
    }
   ],
   "source": [
    "print(myArr[0, 1])"
   ]
  },
  {
   "cell_type": "code",
   "execution_count": 8,
   "metadata": {},
   "outputs": [],
   "source": [
    "ser = pd.Series(np.random.rand(12))"
   ]
  },
  {
   "cell_type": "code",
   "execution_count": 9,
   "metadata": {},
   "outputs": [
    {
     "data": {
      "text/plain": [
       "0     0.230845\n",
       "1     0.053674\n",
       "2     0.707425\n",
       "3     0.378791\n",
       "4     0.225445\n",
       "5     0.388081\n",
       "6     0.187563\n",
       "7     0.642076\n",
       "8     0.119217\n",
       "9     0.541608\n",
       "10    0.372662\n",
       "11    0.479161\n",
       "dtype: float64"
      ]
     },
     "execution_count": 9,
     "metadata": {},
     "output_type": "execute_result"
    }
   ],
   "source": [
    "ser\n"
   ]
  },
  {
   "cell_type": "code",
   "execution_count": 10,
   "metadata": {},
   "outputs": [
    {
     "name": "stdout",
     "output_type": "stream",
     "text": [
      "          0         1         2         3         4\n",
      "0  0.369136  0.066868  0.839920  0.937087  0.233411\n",
      "1  0.461055  0.873460  0.743798  0.592956  0.996650\n",
      "2  0.039963  0.387717  0.336862  0.242614  0.153297\n",
      "3  0.741246  0.788936  0.770810  0.015670  0.025719\n",
      "4  0.663944  0.644401  0.610819  0.835865  0.881010\n"
     ]
    }
   ],
   "source": [
    "\n",
    "new_df = pd.DataFrame(np.random.rand(334, 5), index=np.arange(334)) \n",
    "\n",
    "print(new_df.head(5))\n"
   ]
  },
  {
   "cell_type": "code",
   "execution_count": 11,
   "metadata": {},
   "outputs": [
    {
     "data": {
      "text/html": [
       "<div>\n",
       "<style scoped>\n",
       "    .dataframe tbody tr th:only-of-type {\n",
       "        vertical-align: middle;\n",
       "    }\n",
       "\n",
       "    .dataframe tbody tr th {\n",
       "        vertical-align: top;\n",
       "    }\n",
       "\n",
       "    .dataframe thead th {\n",
       "        text-align: right;\n",
       "    }\n",
       "</style>\n",
       "<table border=\"1\" class=\"dataframe\">\n",
       "  <thead>\n",
       "    <tr style=\"text-align: right;\">\n",
       "      <th></th>\n",
       "      <th>0</th>\n",
       "      <th>1</th>\n",
       "      <th>2</th>\n",
       "      <th>3</th>\n",
       "      <th>4</th>\n",
       "    </tr>\n",
       "  </thead>\n",
       "  <tbody>\n",
       "    <tr>\n",
       "      <th>count</th>\n",
       "      <td>334.000000</td>\n",
       "      <td>334.000000</td>\n",
       "      <td>334.000000</td>\n",
       "      <td>334.000000</td>\n",
       "      <td>334.000000</td>\n",
       "    </tr>\n",
       "    <tr>\n",
       "      <th>mean</th>\n",
       "      <td>0.516243</td>\n",
       "      <td>0.480267</td>\n",
       "      <td>0.507772</td>\n",
       "      <td>0.500401</td>\n",
       "      <td>0.492016</td>\n",
       "    </tr>\n",
       "    <tr>\n",
       "      <th>std</th>\n",
       "      <td>0.297832</td>\n",
       "      <td>0.295110</td>\n",
       "      <td>0.287737</td>\n",
       "      <td>0.290466</td>\n",
       "      <td>0.288489</td>\n",
       "    </tr>\n",
       "    <tr>\n",
       "      <th>min</th>\n",
       "      <td>0.000967</td>\n",
       "      <td>0.000102</td>\n",
       "      <td>0.011536</td>\n",
       "      <td>0.000574</td>\n",
       "      <td>0.004188</td>\n",
       "    </tr>\n",
       "    <tr>\n",
       "      <th>25%</th>\n",
       "      <td>0.237311</td>\n",
       "      <td>0.220249</td>\n",
       "      <td>0.256193</td>\n",
       "      <td>0.254181</td>\n",
       "      <td>0.232612</td>\n",
       "    </tr>\n",
       "    <tr>\n",
       "      <th>50%</th>\n",
       "      <td>0.550011</td>\n",
       "      <td>0.484303</td>\n",
       "      <td>0.507315</td>\n",
       "      <td>0.506357</td>\n",
       "      <td>0.483160</td>\n",
       "    </tr>\n",
       "    <tr>\n",
       "      <th>75%</th>\n",
       "      <td>0.771108</td>\n",
       "      <td>0.723315</td>\n",
       "      <td>0.772187</td>\n",
       "      <td>0.761905</td>\n",
       "      <td>0.739130</td>\n",
       "    </tr>\n",
       "    <tr>\n",
       "      <th>max</th>\n",
       "      <td>0.998140</td>\n",
       "      <td>0.999346</td>\n",
       "      <td>0.998444</td>\n",
       "      <td>0.997558</td>\n",
       "      <td>0.999723</td>\n",
       "    </tr>\n",
       "  </tbody>\n",
       "</table>\n",
       "</div>"
      ],
      "text/plain": [
       "                0           1           2           3           4\n",
       "count  334.000000  334.000000  334.000000  334.000000  334.000000\n",
       "mean     0.516243    0.480267    0.507772    0.500401    0.492016\n",
       "std      0.297832    0.295110    0.287737    0.290466    0.288489\n",
       "min      0.000967    0.000102    0.011536    0.000574    0.004188\n",
       "25%      0.237311    0.220249    0.256193    0.254181    0.232612\n",
       "50%      0.550011    0.484303    0.507315    0.506357    0.483160\n",
       "75%      0.771108    0.723315    0.772187    0.761905    0.739130\n",
       "max      0.998140    0.999346    0.998444    0.997558    0.999723"
      ]
     },
     "execution_count": 11,
     "metadata": {},
     "output_type": "execute_result"
    }
   ],
   "source": [
    "new_df.describe()"
   ]
  },
  {
   "cell_type": "code",
   "execution_count": 16,
   "metadata": {},
   "outputs": [
    {
     "data": {
      "text/html": [
       "<div>\n",
       "<style scoped>\n",
       "    .dataframe tbody tr th:only-of-type {\n",
       "        vertical-align: middle;\n",
       "    }\n",
       "\n",
       "    .dataframe tbody tr th {\n",
       "        vertical-align: top;\n",
       "    }\n",
       "\n",
       "    .dataframe thead th {\n",
       "        text-align: right;\n",
       "    }\n",
       "</style>\n",
       "<table border=\"1\" class=\"dataframe\">\n",
       "  <thead>\n",
       "    <tr style=\"text-align: right;\">\n",
       "      <th></th>\n",
       "      <th>0</th>\n",
       "      <th>2</th>\n",
       "      <th>3</th>\n",
       "      <th>4</th>\n",
       "    </tr>\n",
       "  </thead>\n",
       "  <tbody>\n",
       "    <tr>\n",
       "      <th>0</th>\n",
       "      <td>0.369136</td>\n",
       "      <td>0.839920</td>\n",
       "      <td>0.937087</td>\n",
       "      <td>0.233411</td>\n",
       "    </tr>\n",
       "    <tr>\n",
       "      <th>1</th>\n",
       "      <td>0.461055</td>\n",
       "      <td>0.743798</td>\n",
       "      <td>0.592956</td>\n",
       "      <td>0.996650</td>\n",
       "    </tr>\n",
       "    <tr>\n",
       "      <th>2</th>\n",
       "      <td>0.039963</td>\n",
       "      <td>0.336862</td>\n",
       "      <td>0.242614</td>\n",
       "      <td>0.153297</td>\n",
       "    </tr>\n",
       "    <tr>\n",
       "      <th>3</th>\n",
       "      <td>0.741246</td>\n",
       "      <td>0.770810</td>\n",
       "      <td>0.015670</td>\n",
       "      <td>0.025719</td>\n",
       "    </tr>\n",
       "    <tr>\n",
       "      <th>4</th>\n",
       "      <td>0.663944</td>\n",
       "      <td>0.610819</td>\n",
       "      <td>0.835865</td>\n",
       "      <td>0.881010</td>\n",
       "    </tr>\n",
       "    <tr>\n",
       "      <th>...</th>\n",
       "      <td>...</td>\n",
       "      <td>...</td>\n",
       "      <td>...</td>\n",
       "      <td>...</td>\n",
       "    </tr>\n",
       "    <tr>\n",
       "      <th>329</th>\n",
       "      <td>0.643189</td>\n",
       "      <td>0.015807</td>\n",
       "      <td>0.471736</td>\n",
       "      <td>0.347061</td>\n",
       "    </tr>\n",
       "    <tr>\n",
       "      <th>330</th>\n",
       "      <td>0.692810</td>\n",
       "      <td>0.362536</td>\n",
       "      <td>0.593357</td>\n",
       "      <td>0.944076</td>\n",
       "    </tr>\n",
       "    <tr>\n",
       "      <th>331</th>\n",
       "      <td>0.829463</td>\n",
       "      <td>0.778205</td>\n",
       "      <td>0.361456</td>\n",
       "      <td>0.293911</td>\n",
       "    </tr>\n",
       "    <tr>\n",
       "      <th>332</th>\n",
       "      <td>0.526466</td>\n",
       "      <td>0.768111</td>\n",
       "      <td>0.602610</td>\n",
       "      <td>0.307773</td>\n",
       "    </tr>\n",
       "    <tr>\n",
       "      <th>333</th>\n",
       "      <td>0.572198</td>\n",
       "      <td>0.526050</td>\n",
       "      <td>0.230135</td>\n",
       "      <td>0.366569</td>\n",
       "    </tr>\n",
       "  </tbody>\n",
       "</table>\n",
       "<p>334 rows × 4 columns</p>\n",
       "</div>"
      ],
      "text/plain": [
       "            0         2         3         4\n",
       "0    0.369136  0.839920  0.937087  0.233411\n",
       "1    0.461055  0.743798  0.592956  0.996650\n",
       "2    0.039963  0.336862  0.242614  0.153297\n",
       "3    0.741246  0.770810  0.015670  0.025719\n",
       "4    0.663944  0.610819  0.835865  0.881010\n",
       "..        ...       ...       ...       ...\n",
       "329  0.643189  0.015807  0.471736  0.347061\n",
       "330  0.692810  0.362536  0.593357  0.944076\n",
       "331  0.829463  0.778205  0.361456  0.293911\n",
       "332  0.526466  0.768111  0.602610  0.307773\n",
       "333  0.572198  0.526050  0.230135  0.366569\n",
       "\n",
       "[334 rows x 4 columns]"
      ]
     },
     "execution_count": 16,
     "metadata": {},
     "output_type": "execute_result"
    }
   ],
   "source": [
    "\n",
    "new_df.drop([1], axis=1)\n"
   ]
  }
 ],
 "metadata": {
  "kernelspec": {
   "display_name": "pandasProject",
   "language": "python",
   "name": "python3"
  },
  "language_info": {
   "codemirror_mode": {
    "name": "ipython",
    "version": 3
   },
   "file_extension": ".py",
   "mimetype": "text/x-python",
   "name": "python",
   "nbconvert_exporter": "python",
   "pygments_lexer": "ipython3",
   "version": "3.11.5"
  }
 },
 "nbformat": 4,
 "nbformat_minor": 2
}
